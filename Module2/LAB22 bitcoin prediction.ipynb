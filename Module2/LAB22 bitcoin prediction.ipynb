{
 "cells": [
  {
   "cell_type": "code",
   "execution_count": 17,
   "id": "1fa7632d",
   "metadata": {},
   "outputs": [],
   "source": [
    "from statsmodels.graphics.tsaplots import plot_acf\n",
    "from statsmodels.tsa.arima_process import ArmaProcess\n",
    "from statsmodels.tsa.stattools import acf\n",
    "import matplotlib.pyplot as plt\n",
    "import numpy as np\n",
    "\n",
    "import pandas as pd\n",
    "%matplotlib inline"
   ]
  },
  {
   "cell_type": "code",
   "execution_count": 18,
   "id": "1c414798",
   "metadata": {},
   "outputs": [
    {
     "data": {
      "text/html": [
       "<div>\n",
       "<style scoped>\n",
       "    .dataframe tbody tr th:only-of-type {\n",
       "        vertical-align: middle;\n",
       "    }\n",
       "\n",
       "    .dataframe tbody tr th {\n",
       "        vertical-align: top;\n",
       "    }\n",
       "\n",
       "    .dataframe thead th {\n",
       "        text-align: right;\n",
       "    }\n",
       "</style>\n",
       "<table border=\"1\" class=\"dataframe\">\n",
       "  <thead>\n",
       "    <tr style=\"text-align: right;\">\n",
       "      <th></th>\n",
       "      <th>Date</th>\n",
       "      <th>Open</th>\n",
       "      <th>High</th>\n",
       "      <th>Low</th>\n",
       "      <th>Close</th>\n",
       "      <th>Adj Close</th>\n",
       "      <th>Volume</th>\n",
       "    </tr>\n",
       "  </thead>\n",
       "  <tbody>\n",
       "    <tr>\n",
       "      <th>0</th>\n",
       "      <td>2016-01-19</td>\n",
       "      <td>387.026001</td>\n",
       "      <td>387.730011</td>\n",
       "      <td>378.971985</td>\n",
       "      <td>380.148987</td>\n",
       "      <td>380.148987</td>\n",
       "      <td>46819800</td>\n",
       "    </tr>\n",
       "    <tr>\n",
       "      <th>1</th>\n",
       "      <td>2016-01-20</td>\n",
       "      <td>379.739990</td>\n",
       "      <td>425.266998</td>\n",
       "      <td>376.598999</td>\n",
       "      <td>420.230011</td>\n",
       "      <td>420.230011</td>\n",
       "      <td>121720000</td>\n",
       "    </tr>\n",
       "    <tr>\n",
       "      <th>2</th>\n",
       "      <td>2016-01-21</td>\n",
       "      <td>419.631989</td>\n",
       "      <td>422.877014</td>\n",
       "      <td>406.299988</td>\n",
       "      <td>410.261993</td>\n",
       "      <td>410.261993</td>\n",
       "      <td>68338000</td>\n",
       "    </tr>\n",
       "    <tr>\n",
       "      <th>3</th>\n",
       "      <td>2016-01-22</td>\n",
       "      <td>409.751007</td>\n",
       "      <td>410.410004</td>\n",
       "      <td>375.282013</td>\n",
       "      <td>382.492004</td>\n",
       "      <td>382.492004</td>\n",
       "      <td>91546600</td>\n",
       "    </tr>\n",
       "    <tr>\n",
       "      <th>4</th>\n",
       "      <td>2016-01-23</td>\n",
       "      <td>382.433990</td>\n",
       "      <td>394.542999</td>\n",
       "      <td>381.980988</td>\n",
       "      <td>387.490997</td>\n",
       "      <td>387.490997</td>\n",
       "      <td>56247400</td>\n",
       "    </tr>\n",
       "  </tbody>\n",
       "</table>\n",
       "</div>"
      ],
      "text/plain": [
       "         Date        Open        High         Low       Close   Adj Close  \\\n",
       "0  2016-01-19  387.026001  387.730011  378.971985  380.148987  380.148987   \n",
       "1  2016-01-20  379.739990  425.266998  376.598999  420.230011  420.230011   \n",
       "2  2016-01-21  419.631989  422.877014  406.299988  410.261993  410.261993   \n",
       "3  2016-01-22  409.751007  410.410004  375.282013  382.492004  382.492004   \n",
       "4  2016-01-23  382.433990  394.542999  381.980988  387.490997  387.490997   \n",
       "\n",
       "      Volume  \n",
       "0   46819800  \n",
       "1  121720000  \n",
       "2   68338000  \n",
       "3   91546600  \n",
       "4   56247400  "
      ]
     },
     "execution_count": 18,
     "metadata": {},
     "output_type": "execute_result"
    }
   ],
   "source": [
    "data = pd.read_csv(r'C:\\Users\\Lenovo\\Documents\\Ironhack\\DATA\\BTC-USD.csv') \n",
    "data.head(5)\n"
   ]
  },
  {
   "cell_type": "code",
   "execution_count": 19,
   "id": "ba40e1b2",
   "metadata": {},
   "outputs": [
    {
     "data": {
      "text/html": [
       "<div>\n",
       "<style scoped>\n",
       "    .dataframe tbody tr th:only-of-type {\n",
       "        vertical-align: middle;\n",
       "    }\n",
       "\n",
       "    .dataframe tbody tr th {\n",
       "        vertical-align: top;\n",
       "    }\n",
       "\n",
       "    .dataframe thead th {\n",
       "        text-align: right;\n",
       "    }\n",
       "</style>\n",
       "<table border=\"1\" class=\"dataframe\">\n",
       "  <thead>\n",
       "    <tr style=\"text-align: right;\">\n",
       "      <th></th>\n",
       "      <th>Open</th>\n",
       "      <th>High</th>\n",
       "      <th>Low</th>\n",
       "      <th>Close</th>\n",
       "      <th>Adj Close</th>\n",
       "      <th>Volume</th>\n",
       "    </tr>\n",
       "    <tr>\n",
       "      <th>Date</th>\n",
       "      <th></th>\n",
       "      <th></th>\n",
       "      <th></th>\n",
       "      <th></th>\n",
       "      <th></th>\n",
       "      <th></th>\n",
       "    </tr>\n",
       "  </thead>\n",
       "  <tbody>\n",
       "    <tr>\n",
       "      <th>2016-01-19</th>\n",
       "      <td>387.026001</td>\n",
       "      <td>387.730011</td>\n",
       "      <td>378.971985</td>\n",
       "      <td>380.148987</td>\n",
       "      <td>380.148987</td>\n",
       "      <td>46819800</td>\n",
       "    </tr>\n",
       "    <tr>\n",
       "      <th>2016-01-20</th>\n",
       "      <td>379.739990</td>\n",
       "      <td>425.266998</td>\n",
       "      <td>376.598999</td>\n",
       "      <td>420.230011</td>\n",
       "      <td>420.230011</td>\n",
       "      <td>121720000</td>\n",
       "    </tr>\n",
       "    <tr>\n",
       "      <th>2016-01-21</th>\n",
       "      <td>419.631989</td>\n",
       "      <td>422.877014</td>\n",
       "      <td>406.299988</td>\n",
       "      <td>410.261993</td>\n",
       "      <td>410.261993</td>\n",
       "      <td>68338000</td>\n",
       "    </tr>\n",
       "    <tr>\n",
       "      <th>2016-01-22</th>\n",
       "      <td>409.751007</td>\n",
       "      <td>410.410004</td>\n",
       "      <td>375.282013</td>\n",
       "      <td>382.492004</td>\n",
       "      <td>382.492004</td>\n",
       "      <td>91546600</td>\n",
       "    </tr>\n",
       "    <tr>\n",
       "      <th>2016-01-23</th>\n",
       "      <td>382.433990</td>\n",
       "      <td>394.542999</td>\n",
       "      <td>381.980988</td>\n",
       "      <td>387.490997</td>\n",
       "      <td>387.490997</td>\n",
       "      <td>56247400</td>\n",
       "    </tr>\n",
       "    <tr>\n",
       "      <th>...</th>\n",
       "      <td>...</td>\n",
       "      <td>...</td>\n",
       "      <td>...</td>\n",
       "      <td>...</td>\n",
       "      <td>...</td>\n",
       "      <td>...</td>\n",
       "    </tr>\n",
       "    <tr>\n",
       "      <th>2022-01-15</th>\n",
       "      <td>43101.898438</td>\n",
       "      <td>43724.671875</td>\n",
       "      <td>42669.035156</td>\n",
       "      <td>43177.398438</td>\n",
       "      <td>43177.398438</td>\n",
       "      <td>18371348298</td>\n",
       "    </tr>\n",
       "    <tr>\n",
       "      <th>2022-01-16</th>\n",
       "      <td>43172.039063</td>\n",
       "      <td>43436.808594</td>\n",
       "      <td>42691.023438</td>\n",
       "      <td>43113.878906</td>\n",
       "      <td>43113.878906</td>\n",
       "      <td>17902097845</td>\n",
       "    </tr>\n",
       "    <tr>\n",
       "      <th>2022-01-17</th>\n",
       "      <td>43118.121094</td>\n",
       "      <td>43179.390625</td>\n",
       "      <td>41680.320313</td>\n",
       "      <td>42250.550781</td>\n",
       "      <td>42250.550781</td>\n",
       "      <td>21690904261</td>\n",
       "    </tr>\n",
       "    <tr>\n",
       "      <th>2022-01-18</th>\n",
       "      <td>42250.074219</td>\n",
       "      <td>42534.402344</td>\n",
       "      <td>41392.214844</td>\n",
       "      <td>42375.632813</td>\n",
       "      <td>42375.632813</td>\n",
       "      <td>22417209227</td>\n",
       "    </tr>\n",
       "    <tr>\n",
       "      <th>2022-01-19</th>\n",
       "      <td>42365.046875</td>\n",
       "      <td>42462.070313</td>\n",
       "      <td>41248.902344</td>\n",
       "      <td>41578.808594</td>\n",
       "      <td>41578.808594</td>\n",
       "      <td>23644661760</td>\n",
       "    </tr>\n",
       "  </tbody>\n",
       "</table>\n",
       "<p>2193 rows × 6 columns</p>\n",
       "</div>"
      ],
      "text/plain": [
       "                    Open          High           Low         Close  \\\n",
       "Date                                                                 \n",
       "2016-01-19    387.026001    387.730011    378.971985    380.148987   \n",
       "2016-01-20    379.739990    425.266998    376.598999    420.230011   \n",
       "2016-01-21    419.631989    422.877014    406.299988    410.261993   \n",
       "2016-01-22    409.751007    410.410004    375.282013    382.492004   \n",
       "2016-01-23    382.433990    394.542999    381.980988    387.490997   \n",
       "...                  ...           ...           ...           ...   \n",
       "2022-01-15  43101.898438  43724.671875  42669.035156  43177.398438   \n",
       "2022-01-16  43172.039063  43436.808594  42691.023438  43113.878906   \n",
       "2022-01-17  43118.121094  43179.390625  41680.320313  42250.550781   \n",
       "2022-01-18  42250.074219  42534.402344  41392.214844  42375.632813   \n",
       "2022-01-19  42365.046875  42462.070313  41248.902344  41578.808594   \n",
       "\n",
       "               Adj Close       Volume  \n",
       "Date                                   \n",
       "2016-01-19    380.148987     46819800  \n",
       "2016-01-20    420.230011    121720000  \n",
       "2016-01-21    410.261993     68338000  \n",
       "2016-01-22    382.492004     91546600  \n",
       "2016-01-23    387.490997     56247400  \n",
       "...                  ...          ...  \n",
       "2022-01-15  43177.398438  18371348298  \n",
       "2022-01-16  43113.878906  17902097845  \n",
       "2022-01-17  42250.550781  21690904261  \n",
       "2022-01-18  42375.632813  22417209227  \n",
       "2022-01-19  41578.808594  23644661760  \n",
       "\n",
       "[2193 rows x 6 columns]"
      ]
     },
     "execution_count": 19,
     "metadata": {},
     "output_type": "execute_result"
    }
   ],
   "source": [
    "data.set_index('Date', inplace=True)\n",
    "data"
   ]
  },
  {
   "cell_type": "code",
   "execution_count": 20,
   "id": "8f6d3ca1",
   "metadata": {},
   "outputs": [
    {
     "data": {
      "image/png": "[encoded data removed]",
      "text/plain": [
       "<Figure size 432x288 with 1 Axes>"
      ]
     },
     "metadata": {
      "needs_background": "light"
     },
     "output_type": "display_data"
    }
   ],
   "source": [
    "import pandas as pd\n",
    "import matplotlib.pyplot as plt\n",
    "\n",
    "data['Close'].plot()\n",
    "plt.show()"
   ]
  },
  {
   "cell_type": "code",
   "execution_count": null,
   "id": "281e2c02",
   "metadata": {},
   "outputs": [],
   "source": []
  },
  {
   "cell_type": "code",
   "execution_count": 21,
   "id": "4f807a4b",
   "metadata": {},
   "outputs": [
    {
     "data": {
      "text/plain": [
       "(-0.8343323568527355,\n",
       " 0.8088286357097509,\n",
       " 24,\n",
       " 2168,\n",
       " {'1%': -3.433369861402103,\n",
       "  '5%': -2.8628740689440835,\n",
       "  '10%': -2.5674801917270327},\n",
       " 35298.8407608048)"
      ]
     },
     "execution_count": 21,
     "metadata": {},
     "output_type": "execute_result"
    }
   ],
   "source": [
    "from statsmodels.tsa.stattools import adfuller\n",
    "result = adfuller(data['Close'], autolag='AIC')\n",
    "result"
   ]
  },
  {
   "cell_type": "code",
   "execution_count": 22,
   "id": "ddaac6ff",
   "metadata": {},
   "outputs": [
    {
     "name": "stdout",
     "output_type": "stream",
     "text": [
      "ADF Test Statistic: -0.83\n",
      "5% Critical Value: -2.86\n",
      "p-value: 0.81\n"
     ]
    }
   ],
   "source": [
    "print('ADF Test Statistic: %.2f' % result[0])\n",
    "print('5%% Critical Value: %.2f' % result[4]['5%'])\n",
    "print('p-value: %.2f' % result[1])"
   ]
  },
  {
   "cell_type": "code",
   "execution_count": 23,
   "id": "2eb50abb",
   "metadata": {},
   "outputs": [],
   "source": [
    "#pvalue is higher than 0.05 so we accept H0 cad it is not stationary"
   ]
  },
  {
   "cell_type": "code",
   "execution_count": 24,
   "id": "b31b2e05",
   "metadata": {},
   "outputs": [
    {
     "data": {
      "image/png": "[encoded data removed]",
      "text/plain": [
       "<Figure size 432x288 with 1 Axes>"
      ]
     },
     "metadata": {
      "needs_background": "light"
     },
     "output_type": "display_data"
    }
   ],
   "source": [
    "from statsmodels.graphics.tsaplots import plot_acf\n",
    "# Calculate the ACF (via statsmodel)\n",
    "plot_acf(data['Close'], lags=129)\n",
    "# Show the data as a plot (via matplotlib)\n",
    "plt.show()"
   ]
  },
  {
   "cell_type": "code",
   "execution_count": 25,
   "id": "75fd1e62",
   "metadata": {},
   "outputs": [
    {
     "data": {
      "image/png": "[encoded data removed]",
      "text/plain": [
       "<Figure size 432x288 with 1 Axes>"
      ]
     },
     "metadata": {
      "needs_background": "light"
     },
     "output_type": "display_data"
    }
   ],
   "source": [
    "from statsmodels.graphics.tsaplots import plot_acf , plot_pacf\n",
    "plot_pacf(data['Close'], alpha =0.05, lags=129)\n",
    "plt.show()"
   ]
  },
  {
   "cell_type": "code",
   "execution_count": 45,
   "id": "41d847ab",
   "metadata": {},
   "outputs": [
    {
     "data": {
      "image/png": "[encoded data removed]",
      "text/plain": [
       "<Figure size 720x504 with 1 Axes>"
      ]
     },
     "metadata": {
      "needs_background": "light"
     },
     "output_type": "display_data"
    }
   ],
   "source": [
    "#because it is not stationnary, we make stationary\n",
    "# Change for (t)th day is Close for (t)th day minus Close for (t-1)th day. # je mets mes données statitionary\n",
    "data['Diff'] = data['Close'].diff()\n",
    "data['Diff'] = data['Diff'].dropna()\n",
    "\n",
    "# Plot the Change\n",
    "plt.figure(figsize=(10, 7))\n",
    "plt.plot(data['Diff'])\n",
    "plt.title('First Order Differenced Series', fontsize=14)\n",
    "plt.xlabel('Year', fontsize=12)\n",
    "plt.ylabel('Difference', fontsize=12)\n",
    "plt.show()"
   ]
  },
  {
   "cell_type": "code",
   "execution_count": 46,
   "id": "9fab1d6c",
   "metadata": {},
   "outputs": [
    {
     "name": "stdout",
     "output_type": "stream",
     "text": [
      "(-9.14243562922074, 2.825630575696099e-15, 23, 2168, {'1%': -3.433369861402103, '5%': -2.8628740689440835, '10%': -2.5674801917270327}, 35282.27142514937)\n",
      "ADF Test Statistic: -9.14\n",
      "5% Critical Value: -2.86\n",
      "p-value: 0.00\n"
     ]
    }
   ],
   "source": [
    "result = adfuller(data.Diff.dropna()) #ne pas oublié de supprimer les data nul\n",
    "print(result)\n",
    "print('ADF Test Statistic: %.2f' % result[0])\n",
    "print('5%% Critical Value: %.2f' % result[4]['5%'])\n",
    "print('p-value: %.2f' % result[1])"
   ]
  },
  {
   "cell_type": "code",
   "execution_count": 47,
   "id": "ceb7de4a",
   "metadata": {},
   "outputs": [],
   "source": [
    "#now it is stationnary"
   ]
  },
  {
   "cell_type": "code",
   "execution_count": 65,
   "id": "024a0345",
   "metadata": {},
   "outputs": [],
   "source": [
    "#now we split data, to create model and do prediction\n",
    "import numpy as np\n",
    "from sklearn.model_selection import train_test_split\n",
    "train, test = train_test_split(data['Diff'])"
   ]
  },
  {
   "cell_type": "code",
   "execution_count": 68,
   "id": "4fd125b5",
   "metadata": {},
   "outputs": [
    {
     "data": {
      "text/plain": [
       "Date\n",
       "2016-01-19           NaN\n",
       "2016-01-20     40.081024\n",
       "2016-01-21     -9.968018\n",
       "2016-01-22    -27.769989\n",
       "2016-01-23      4.998993\n",
       "                 ...    \n",
       "2022-01-14    508.128906\n",
       "2022-01-16    -63.519532\n",
       "2022-01-17   -863.328125\n",
       "2022-01-18    125.082032\n",
       "2022-01-19   -796.824219\n",
       "Name: Diff, Length: 1644, dtype: float64"
      ]
     },
     "execution_count": 68,
     "metadata": {},
     "output_type": "execute_result"
    }
   ],
   "source": [
    "train.sort_index() #We need to sort car la fonction prend 25% eT 75% au hazard et donc en desordre ( pas possible ensuite de faire des predictions                                                                              )"
   ]
  },
  {
   "cell_type": "code",
   "execution_count": 49,
   "id": "7a50cd81",
   "metadata": {},
   "outputs": [],
   "source": [
    "index= data.shape[0]-500\n",
    "train, test = data['Diff'][0:index], data['Diff'][index:]"
   ]
  },
  {
   "cell_type": "code",
   "execution_count": 50,
   "id": "a949062e",
   "metadata": {},
   "outputs": [
    {
     "data": {
      "text/plain": [
       "Date\n",
       "2020-09-07     89.211914\n",
       "2020-09-08   -238.046875\n",
       "2020-09-09    110.831054\n",
       "2020-09-10    120.791016\n",
       "2020-09-11     37.776367\n",
       "                 ...    \n",
       "2022-01-15     77.699219\n",
       "2022-01-16    -63.519532\n",
       "2022-01-17   -863.328125\n",
       "2022-01-18    125.082032\n",
       "2022-01-19   -796.824219\n",
       "Name: Diff, Length: 500, dtype: float64"
      ]
     },
     "execution_count": 50,
     "metadata": {},
     "output_type": "execute_result"
    }
   ],
   "source": [
    "test"
   ]
  },
  {
   "cell_type": "code",
   "execution_count": 51,
   "id": "96576a64",
   "metadata": {},
   "outputs": [
    {
     "data": {
      "text/plain": [
       "'2020-09-07'"
      ]
     },
     "execution_count": 51,
     "metadata": {},
     "output_type": "execute_result"
    }
   ],
   "source": [
    "test.index[0]"
   ]
  },
  {
   "cell_type": "code",
   "execution_count": 52,
   "id": "85f89d70",
   "metadata": {},
   "outputs": [],
   "source": [
    "from statsmodels.tsa.arima_model import ARMA"
   ]
  },
  {
   "cell_type": "code",
   "execution_count": 55,
   "id": "4b24adf3",
   "metadata": {},
   "outputs": [
    {
     "name": "stderr",
     "output_type": "stream",
     "text": [
      "C:\\Users\\Lenovo\\anaconda3\\lib\\site-packages\\statsmodels\\tsa\\base\\tsa_model.py:524: ValueWarning: No frequency information was provided, so inferred frequency D will be used.\n",
      "  warnings.warn('No frequency information was'\n"
     ]
    }
   ],
   "source": [
    "train=train.dropna()\n",
    "model1 = ARMA(train, order=(1,1))\n",
    "result = model1.fit()\n",
    "\n"
   ]
  },
  {
   "cell_type": "code",
   "execution_count": 56,
   "id": "ccbcedc0",
   "metadata": {},
   "outputs": [
    {
     "name": "stderr",
     "output_type": "stream",
     "text": [
      "C:\\Users\\Lenovo\\anaconda3\\lib\\site-packages\\statsmodels\\tsa\\base\\tsa_model.py:132: FutureWarning: The 'freq' argument in Timestamp is deprecated and will be removed in a future version.\n",
      "  date_key = Timestamp(key, freq=base_index.freq)\n",
      "C:\\Users\\Lenovo\\anaconda3\\lib\\site-packages\\statsmodels\\tsa\\arima_model.py:827: SpecificationWarning: \n",
      "The number of observations in exog does not match the number of out-of-sample\n",
      "observations.  This might indicate that exog is not correctly aligned. exog\n",
      "should be aligned so that the exog[0] is used for the first out-of-sample\n",
      "forecast, and exog[-1] is used for the last out-of-sample forecast.\n",
      "exog is not used for in-sample observations which are the fitted values.\n",
      "\n",
      "To silence this warning, ensure the number of observation in exog (500)\n",
      "matches the number of out-of-sample forecasts (500)'\n",
      "\n",
      "  warnings.warn(msg, SpecificationWarning)\n"
     ]
    },
    {
     "data": {
      "text/plain": [
       "2020-09-07    19.733359\n",
       "2020-09-08    -4.970936\n",
       "2020-09-09    14.240409\n",
       "2020-09-10    -0.699332\n",
       "2020-09-11    10.918588\n",
       "                ...    \n",
       "2022-01-15     5.836210\n",
       "2022-01-16     5.836210\n",
       "2022-01-17     5.836210\n",
       "2022-01-18     5.836210\n",
       "2022-01-19     5.836210\n",
       "Freq: D, Length: 500, dtype: float64"
      ]
     },
     "execution_count": 56,
     "metadata": {},
     "output_type": "execute_result"
    }
   ],
   "source": [
    "from statsmodels.tools.eval_measures import rmse\n",
    "pred1=result.predict(start=test.index[0], end=test.index[-1], exog=test)\n",
    "pred1"
   ]
  },
  {
   "cell_type": "code",
   "execution_count": 57,
   "id": "79b9e5bc",
   "metadata": {},
   "outputs": [
    {
     "data": {
      "text/plain": [
       "1659.6045805168094"
      ]
     },
     "execution_count": 57,
     "metadata": {},
     "output_type": "execute_result"
    }
   ],
   "source": [
    "from statsmodels.tools.eval_measures import rmse\n",
    "rmse1 = rmse(pred1[1], test)\n",
    "rmse1"
   ]
  },
  {
   "cell_type": "code",
   "execution_count": 58,
   "id": "957a24c4",
   "metadata": {},
   "outputs": [
    {
     "name": "stderr",
     "output_type": "stream",
     "text": [
      "C:\\Users\\Lenovo\\anaconda3\\lib\\site-packages\\statsmodels\\tsa\\base\\tsa_model.py:524: ValueWarning: No frequency information was provided, so inferred frequency D will be used.\n",
      "  warnings.warn('No frequency information was'\n"
     ]
    },
    {
     "data": {
      "text/plain": [
       "1659.181013131508"
      ]
     },
     "execution_count": 58,
     "metadata": {},
     "output_type": "execute_result"
    }
   ],
   "source": [
    "model2 = ARMA(train, order=(6,2))\n",
    "result2 = model2.fit()\n",
    "pred2=result2.predict()\n",
    "rmse2 = rmse(pred2[1], test)\n",
    "rmse2"
   ]
  },
  {
   "cell_type": "code",
   "execution_count": 59,
   "id": "68989b0a",
   "metadata": {},
   "outputs": [],
   "source": [
    "from statsmodels.tsa.arima.model import ARIMA"
   ]
  },
  {
   "cell_type": "code",
   "execution_count": 63,
   "id": "99a5e5b3",
   "metadata": {},
   "outputs": [
    {
     "name": "stderr",
     "output_type": "stream",
     "text": [
      "C:\\Users\\Lenovo\\anaconda3\\lib\\site-packages\\statsmodels\\tsa\\base\\tsa_model.py:524: ValueWarning: No frequency information was provided, so inferred frequency D will be used.\n",
      "  warnings.warn('No frequency information was'\n",
      "C:\\Users\\Lenovo\\anaconda3\\lib\\site-packages\\statsmodels\\tsa\\base\\tsa_model.py:524: ValueWarning: No frequency information was provided, so inferred frequency D will be used.\n",
      "  warnings.warn('No frequency information was'\n",
      "C:\\Users\\Lenovo\\anaconda3\\lib\\site-packages\\statsmodels\\tsa\\base\\tsa_model.py:524: ValueWarning: No frequency information was provided, so inferred frequency D will be used.\n",
      "  warnings.warn('No frequency information was'\n"
     ]
    },
    {
     "data": {
      "text/plain": [
       "1659.181013131508"
      ]
     },
     "execution_count": 63,
     "metadata": {},
     "output_type": "execute_result"
    }
   ],
   "source": [
    "model3 = ARIMA(train, order=(5,1,0))\n",
    "result3 = model3.fit()\n",
    "pred3=result3.predict()\n",
    "rmse3 = rmse(pred2[1], test)\n",
    "rmse3"
   ]
  },
  {
   "cell_type": "code",
   "execution_count": 64,
   "id": "0b9f2a61",
   "metadata": {},
   "outputs": [
    {
     "data": {
      "text/plain": [
       "<AxesSubplot:xlabel='Date'>"
      ]
     },
     "execution_count": 64,
     "metadata": {},
     "output_type": "execute_result"
    },
    {
     "data": {
      "image/png": "[encoded data removed]",
      "text/plain": [
       "<Figure size 432x288 with 1 Axes>"
      ]
     },
     "metadata": {
      "needs_background": "light"
     },
     "output_type": "display_data"
    }
   ],
   "source": [
    "from pandas import DataFrame\n",
    "residuals = DataFrame(result3.resid)\n",
    "residuals.plot()"
   ]
  },
  {
   "cell_type": "code",
   "execution_count": null,
   "id": "22345c28",
   "metadata": {},
   "outputs": [],
   "source": []
  },
  {
   "cell_type": "code",
   "execution_count": null,
   "id": "c04baed2",
   "metadata": {},
   "outputs": [],
   "source": []
  },
  {
   "cell_type": "code",
   "execution_count": null,
   "id": "d7d631b4",
   "metadata": {},
   "outputs": [],
   "source": []
  }
 ],
 "metadata": {
  "kernelspec": {
   "display_name": "Python 3 (ipykernel)",
   "language": "python",
   "name": "python3"
  },
  "language_info": {
   "codemirror_mode": {
    "name": "ipython",
    "version": 3
   },
   "file_extension": ".py",
   "mimetype": "text/x-python",
   "name": "python",
   "nbconvert_exporter": "python",
   "pygments_lexer": "ipython3",
   "version": "3.9.7"
  }
 },
 "nbformat": 4,
 "nbformat_minor": 5
}
