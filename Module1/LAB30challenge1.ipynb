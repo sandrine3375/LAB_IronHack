{
 "cells": [
  {
   "cell_type": "code",
   "execution_count": 35,
   "id": "8c5bbcfd",
   "metadata": {},
   "outputs": [
    {
     "name": "stdout",
     "output_type": "stream",
     "text": [
      "Welcome to this calculator!\n",
      "It can add and subtract whole numbers from zero to five\n",
      "Please choose your first number (zero to five): 3\n",
      "What do you want to do? \"+\" or \"-\": +\n",
      "Please choose your second number (zero to five): 3\n",
      "6\n",
      "Thanks for using this calculator, goodbye :)\n"
     ]
    }
   ],
   "source": [
    "print('Welcome to this calculator!')\n",
    "print('It can add and subtract whole numbers from zero to five')\n",
    "\n",
    "#I will define a and b as integer (to do \"if\" with \"range\")\n",
    "#I put in b, + and - because it is clearer than plus and minus\n",
    "#for each asking, i will define a error\n",
    "\n",
    "a = input('Please choose your first number (zero to five): ')\n",
    "while a.isdigit()==False or int(a) not in range (0,6):\n",
    "    a = input('Error, please a number (zero to five): ') #First error mentioned\n",
    "else: \n",
    "    a_an_integer = True\n",
    "    while a_an_integer:\n",
    "        if int(a) in range (0,6):\n",
    "            b = input('What do you want to do? \"+\" or \"-\": ')\n",
    "            while b in [\"+\", \"-\"]: #b is a str so it doesn't work with range\n",
    "                c = input('Please choose your second number (zero to five): ')\n",
    "                if c.isdigit()==False:\n",
    "                    print(\"give a number\")\n",
    "                elif int(c) in range (0,6) and b== \"+\":\n",
    "                    print (int(a)+int(c))\n",
    "                    a_an_integer= False\n",
    "                    break\n",
    "                elif int(c) in range (0,6) and b== \"-\":\n",
    "                    print (int(a)-int(c))        \n",
    "                    a_an_integer= False\n",
    "                    break\n",
    "                else:\n",
    "                    print(\"give a number between O et 5 \")     #third error mentioned\n",
    "            else:\n",
    "                print('please put \"+\" or \"-\" ')    #second error mentioned\n",
    "\n",
    "print (\"Thanks for using this calculator, goodbye :)\")\n",
    "\n",
    "\n"
   ]
  },
  {
   "cell_type": "code",
   "execution_count": null,
   "id": "6c84863b",
   "metadata": {},
   "outputs": [],
   "source": []
  }
 ],
 "metadata": {
  "kernelspec": {
   "display_name": "Python 3 (ipykernel)",
   "language": "python",
   "name": "python3"
  },
  "language_info": {
   "codemirror_mode": {
    "name": "ipython",
    "version": 3
   },
   "file_extension": ".py",
   "mimetype": "text/x-python",
   "name": "python",
   "nbconvert_exporter": "python",
   "pygments_lexer": "ipython3",
   "version": "3.9.7"
  }
 },
 "nbformat": 4,
 "nbformat_minor": 5
}
