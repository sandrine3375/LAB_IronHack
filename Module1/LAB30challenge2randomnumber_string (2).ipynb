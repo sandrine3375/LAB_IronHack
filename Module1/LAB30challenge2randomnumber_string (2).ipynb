{
 "cells": [
  {
   "cell_type": "code",
   "execution_count": 48,
   "id": "6fa5e3a5",
   "metadata": {},
   "outputs": [
    {
     "name": "stdout",
     "output_type": "stream",
     "text": [
      "Enter minimum string length: 2\n",
      "Enter maximum string length: 9\n",
      "How many random strings to generate? 4\n",
      "['B38y7', 'Iom3S7', 'L6vl6a', 'ZhK']\n"
     ]
    }
   ],
   "source": [
    "import string\n",
    "import random\n",
    "import sys\n",
    "\n",
    "\n",
    "#length will be the longer of the string\n",
    "def randomstr (a,b):\n",
    "    a=int(a)\n",
    "    b=int(b)\n",
    "    if a < b:\n",
    "        length = random.choice(range(a, b))\n",
    "    elif a == b:\n",
    "        length = a\n",
    "    randomstrg = ''.join(random.choices(string.ascii_letters+string.digits,k=length))\n",
    "    return randomstrg\n",
    "\n",
    "a =input('Enter minimum string length: ')\n",
    "b = input('Enter maximum string length: ')\n",
    "if a.isdigit()==False or b.isdigit()==False or int(a)>int(b) :\n",
    "    print('Error, incorrect input') \n",
    "    sys.exit () # error mentioned\n",
    "else:\n",
    "    n = int(input('How many random strings to generate? '))\n",
    "    liststr=[]\n",
    "    for x in range (n):\n",
    "        liststr.append(randomstr(a,b))\n",
    "    print (liststr)\n",
    "    \n",
    "\n",
    "          \n",
    "\n",
    "\n",
    "\n",
    "    "
   ]
  },
  {
   "cell_type": "code",
   "execution_count": null,
   "id": "16065cbf",
   "metadata": {},
   "outputs": [],
   "source": []
  },
  {
   "cell_type": "code",
   "execution_count": null,
   "id": "13c9828c",
   "metadata": {},
   "outputs": [],
   "source": []
  }
 ],
 "metadata": {
  "kernelspec": {
   "display_name": "Python 3 (ipykernel)",
   "language": "python",
   "name": "python3"
  },
  "language_info": {
   "codemirror_mode": {
    "name": "ipython",
    "version": 3
   },
   "file_extension": ".py",
   "mimetype": "text/x-python",
   "name": "python",
   "nbconvert_exporter": "python",
   "pygments_lexer": "ipython3",
   "version": "3.9.7"
  }
 },
 "nbformat": 4,
 "nbformat_minor": 5
}
