{
  "cells": [
    {
      "cell_type": "code",
      "execution_count": 2,
      "metadata": {
        "colab": {
          "base_uri": "https://localhost:8080/"
        },
        "id": "SmBKiVWmbNEP",
        "outputId": "9968454b-145b-4884-8660-236461d6a00f"
      },
      "outputs": [
        {
          "name": "stdout",
          "output_type": "stream",
          "text": [
            "17\n"
          ]
        }
      ],
      "source": [
        "x=[True,  True,  True,  False,\n",
        "  True,  True,  True,  True ,\n",
        "  True,  False, True,  False,\n",
        "  True,  False, False, True ,\n",
        "  True,  True,  True,  True ,\n",
        "  False, False, True,  True]\n",
        "sheep = x.count(True)\n",
        "print(sheep)"
      ]
    },
    {
      "cell_type": "code",
      "execution_count": 5,
      "metadata": {
        "colab": {
          "base_uri": "https://localhost:8080/"
        },
        "id": "7KVO03-QceSL",
        "outputId": "1fa1c56d-3f7d-4608-e5d4-16c95a9486c9"
      },
      "outputs": [
        {
          "name": "stdout",
          "output_type": "stream",
          "text": [
            "['Keep', 'Keep', 'Keep']\n"
          ]
        }
      ],
      "source": [
        "list=[\"Keep\", \"Remove\", \"Keep\", \"Remove\", \"Keep\"]\n",
        "list3=list[::2]\n",
        "print(list3)"
      ]
    },
    {
      "cell_type": "code",
      "execution_count": 7,
      "metadata": {
        "colab": {
          "base_uri": "https://localhost:8080/"
        },
        "id": "XH-ksE43f303",
        "outputId": "c67070e6-584b-42d4-8bd4-1721de34e17a"
      },
      "outputs": [
        {
          "name": "stdout",
          "output_type": "stream",
          "text": [
            "6665321\n"
          ]
        }
      ],
      "source": [
        "number = \"1235666\"[::-1]\n",
        "print(number)"
      ]
    },
    {
      "cell_type": "code",
      "execution_count": 25,
      "metadata": {
        "colab": {
          "base_uri": "https://localhost:8080/"
        },
        "id": "OIBMZb4Cgti0",
        "outputId": "8f6fe303-c297-48fc-d5c0-1214e28b04bb"
      },
      "outputs": [
        {
          "name": "stdout",
          "output_type": "stream",
          "text": [
            "give a number9119\n",
            "[9, 1, 1, 9]\n",
            "[81, 1, 1, 81]\n",
            "811181\n"
          ]
        }
      ],
      "source": [
        "num1=[]\n",
        "num=str(input(\"give a number\"))\n",
        "x = [int(a) for a in str(num)]\n",
        "print(x)\n",
        "for i in x:\n",
        "  c=i**2\n",
        "  num1.append(c)\n",
        "print(num1) #List on integer\n",
        "string_int=[str(a) for a in num1] #Convert integer to string\n",
        "num2=''.join(string_int) #combone each string with no space\n",
        "print (num2)\n"
      ]
    },
    {
      "cell_type": "code",
      "execution_count": 42,
      "metadata": {
        "colab": {
          "base_uri": "https://localhost:8080/"
        },
        "id": "B6NlxLMjuEHx",
        "outputId": "deb0f6f8-dd01-4b58-a513-a468ed4066ad"
      },
      "outputs": [
        {
          "name": "stdout",
          "output_type": "stream",
          "text": [
            "{1: 3, 3: 2, 4: 1}\n",
            "dict_items([(1, 3), (3, 2), (4, 1)])\n",
            "[(1, 3), (3, 2), (4, 1)]\n"
          ]
        }
      ],
      "source": [
        "integers_list =  [1, 1, 2 ,3 ,1 ,2 ,3 ,4]\n",
        "digits_list = [1, 3, 4]\n",
        "dict1= {}\n",
        "for i in digits_list:\n",
        "  c = integers_list.count(i)\n",
        "  dict1[i] = c\n",
        "print (dict1) \n",
        "\n",
        "list2=dict1.items()\n",
        "print(list2)\n",
        "\n",
        "\n",
        "listfinal=[]\n",
        "for x in dict1.items():\n",
        "    listfinal.append (x)\n",
        "print (listfinal)"
      ]
    }
  ],
  "metadata": {
    "colab": {
      "collapsed_sections": [],
      "name": "KATA LAB10.ipynb",
      "provenance": []
    },
    "kernelspec": {
      "display_name": "Python 3",
      "name": "python3"
    },
    "language_info": {
      "name": "python"
    }
  },
  "nbformat": 4,
  "nbformat_minor": 0
}
