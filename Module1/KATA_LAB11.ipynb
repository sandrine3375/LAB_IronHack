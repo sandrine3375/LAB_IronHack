{
  "cells": [
    {
      "cell_type": "code",
      "execution_count": 36,
      "metadata": {
        "colab": {
          "base_uri": "https://localhost:8080/"
        },
        "id": "tf671Ob13-CS",
        "outputId": "2b376588-d93c-437b-f7ba-b69b5e603671"
      },
      "outputs": [
        {
          "name": "stdout",
          "output_type": "stream",
          "text": [
            "[2, 2, 4]\n"
          ]
        }
      ],
      "source": [
        "a=integer_list =  [1, 1, 2 ,3 ,1 ,2 ,3 ,4]\n",
        "b=values_list = [1, 3]\n",
        "\n",
        "for i in values_list :\n",
        "  while i in integer_list :\n",
        "    c=integer_list.remove(i)\n",
        "\n",
        "print(integer_list)\n"
      ]
    },
    {
      "cell_type": "code",
      "execution_count": 37,
      "metadata": {
        "colab": {
          "base_uri": "https://localhost:8080/"
        },
        "id": "n_A1ynNKDGYg",
        "outputId": "a6081ca4-73ba-41bc-dcf4-970e4bf69cb2"
      },
      "outputs": [
        {
          "name": "stdout",
          "output_type": "stream",
          "text": [
            "[(1, 3), (3, 2), (4, 1)]\n"
          ]
        }
      ],
      "source": [
        "integers_list =  [1, 1, 2 ,3 ,1 ,2 ,3 ,4]\n",
        "digits_list = [1, 3, 4]\n",
        "dict1= {}\n",
        "for i in digits_list:\n",
        "  c = integers_list.count(i)\n",
        "  dict1[i] = c\n",
        "\n",
        "list2=dict1.items()\n",
        "\n",
        "listfinal=[]\n",
        "for x in dict1.items():\n",
        "    listfinal.append (x)\n",
        "print (listfinal)"
      ]
    },
    {
      "cell_type": "code",
      "execution_count": 43,
      "metadata": {
        "colab": {
          "base_uri": "https://localhost:8080/"
        },
        "id": "arafmCTcDM09",
        "outputId": "c1ce0cf9-92e7-47bb-a313-945206ba4f58"
      },
      "outputs": [
        {
          "name": "stdout",
          "output_type": "stream",
          "text": [
            "give a name abracadabra\n",
            "['a', 'b', 'r', 'a', 'c', 'a', 'd', 'a', 'b', 'r', 'a']\n",
            "[('a', 5), ('b', 2), ('r', 2), ('c', 1), ('d', 1)]\n"
          ]
        }
      ],
      "source": [
        "#ordered_count(\"abracadabra\") == [('a', 5), ('b', 2), ('r', 2), ('c', 1), ('d', 1)]\n",
        "word=input(\"give a name \")\n",
        "x = [str(a) for a in str(word)]\n",
        "print(x)\n",
        "import collections\n",
        "frequency=collections.Counter(x) #dictionnary\n",
        "\n",
        "listfinal=[]\n",
        "for i in frequency.items():\n",
        "    listfinal.append (i)\n",
        "print (listfinal)"
      ]
    }
  ],
  "metadata": {
    "colab": {
      "collapsed_sections": [],
      "name": "KATA LAB11.ipynb",
      "provenance": []
    },
    "kernelspec": {
      "display_name": "Python 3",
      "name": "python3"
    },
    "language_info": {
      "name": "python"
    }
  },
  "nbformat": 4,
  "nbformat_minor": 0
}
