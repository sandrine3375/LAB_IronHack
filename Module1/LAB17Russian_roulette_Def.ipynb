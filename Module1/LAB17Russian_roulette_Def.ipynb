{
 "cells": [
  {
   "cell_type": "code",
   "execution_count": 45,
   "id": "0687efd2",
   "metadata": {},
   "outputs": [],
   "source": [
    "def russian_roulette_3():\n",
    "    import time\n",
    "    import random\n",
    "# to make a robust input of players that should be a type number and comprised within limit from 2 to 6\n",
    "    while True:    \n",
    "        try:\n",
    "            n=int(input(\"Enter a number of players (2-6): \"))\n",
    "        except ValueError: # used to check whether the input is an int\n",
    "            print(\"Not a number, please insert a number!\")\n",
    "        else: # is accessed if the input is a int\n",
    "            if n <=1 or n > 6:\n",
    "                print(\"Number of players should be comprised within 2 to 6\")\n",
    "            else: # if number is in limit, break the loop\n",
    "                break   \n",
    " #to create an input of players use a for loop that braks when counter equals to number of players input or 6 - max number of players   \n",
    "    players=[]\n",
    "    for i in range(1,n+1): #SANDRINE CHANGE/n+1 au lieu de 100\n",
    "        name=input(\"Please enter your name \")\n",
    "        players.append(name)\n",
    "        #if i==n or i==6 #SANDRINE DELETE\n",
    "            #break #SANDRINE DELETE\n",
    "\n",
    "#Game starts with round 0, to determine \"deadnumber\" use of a random function \n",
    "    round=0\n",
    "    deadnumber=random.randint(1,6)\n",
    "#game will continue till the round is less than 6, max number of numbers, when round reaches deadnumber => exit of the loop\n",
    "    while round<=6:\n",
    "#till game is on the for loop will scan each Player till the round reaches deadnumber, condition at which loop exits\n",
    "        for i in range(0,len(players)): #n \n",
    "            round+=1\n",
    "            print(\"\\nRound\",round) #output to show a current round\n",
    "            print(players[i], \"your time to play\")\n",
    "            print(input(\"press enter to start the game\")) #to start the game \n",
    "            #a counter 3,2,1 to create a pressure\n",
    "            for t in range(3,0,-1):\n",
    "                info='shoot in '+str(t)+'s'\n",
    "                print(info,end='\\r')\n",
    "                time.sleep(1)\n",
    "            if round!=deadnumber: #if current round is not equal to \"dead number\" - game continue, else game stops\n",
    "                    print(\"CLIC:\",players[i],\"you're still alive! this is your lucky day...for now \") \n",
    "\n",
    "            else:\n",
    "                print(\"BOOM:\",players[i],\"OOps!you're dead\")\n",
    "                break\n",
    "        \n",
    "        #when a round equals to deadnumber => exit of the loop and a messafe 'Gameover'\n",
    "        if round==deadnumber:\n",
    "            print(\"Gameover\")\n",
    "            break"
   ]
  },
  {
   "cell_type": "code",
   "execution_count": 46,
   "id": "f9a2707f",
   "metadata": {},
   "outputs": [
    {
     "name": "stdout",
     "output_type": "stream",
     "text": [
      "Enter a number of players (2-6): 3\n",
      "Please enter your name 3\n",
      "Please enter your name 3\n",
      "Please enter your name 3\n",
      "\n",
      "Round 1\n",
      "3 your time to play\n",
      "press enter to start the game\n",
      "\n",
      "CLIC: 3 you're still alive! this is your lucky day...for now \n",
      "\n",
      "Round 2\n",
      "3 your time to play\n",
      "press enter to start the game\n",
      "\n",
      "BOOM: 3 OOps!you're dead\n",
      "Gameover\n"
     ]
    }
   ],
   "source": [
    "russian_roulette_3()"
   ]
  },
  {
   "cell_type": "code",
   "execution_count": null,
   "id": "3a3d3988",
   "metadata": {},
   "outputs": [],
   "source": []
  },
  {
   "cell_type": "code",
   "execution_count": null,
   "id": "6df1b6d7",
   "metadata": {},
   "outputs": [],
   "source": []
  }
 ],
 "metadata": {
  "kernelspec": {
   "display_name": "Python 3 (ipykernel)",
   "language": "python",
   "name": "python3"
  },
  "language_info": {
   "codemirror_mode": {
    "name": "ipython",
    "version": 3
   },
   "file_extension": ".py",
   "mimetype": "text/x-python",
   "name": "python",
   "nbconvert_exporter": "python",
   "pygments_lexer": "ipython3",
   "version": "3.9.7"
  }
 },
 "nbformat": 4,
 "nbformat_minor": 5
}
